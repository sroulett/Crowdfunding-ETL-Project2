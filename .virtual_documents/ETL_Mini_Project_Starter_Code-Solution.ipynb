# Import dependencies
import pandas as pd
import numpy as np
pd.set_option('max_colwidth', 400)





# Read the data into a Pandas DataFrame
crowdfunding_info_df = pd.read_excel('Resources/crowdfunding.xlsx')
crowdfunding_info_df.head()


# Get a brief summary of the crowdfunding_info DataFrame.
crowdfunding_info_df.info()





# Get the crowdfunding_info_df columns.
crowdfunding_info_df.columns


# Assign the category and subcategory values to category and subcategory columns.
crowdfunding_info_df[['category','subcategory']] = crowdfunding_info_df['category & sub-category'].str.split('/',expand=True)
crowdfunding_info_df.head()


# Get the unique categories and subcategories in separate lists.
categories = crowdfunding_info_df['category'].unique()
subcategories = crowdfunding_info_df['subcategory'].unique()

print(categories)
print(subcategories)


# Get the number of distinct values in the categories and subcategories lists.
print(len(categories))
print(len(subcategories))


# Create numpy arrays from 1-9 for the categories and 1-24 for the subcategories.
category_ids = np.arange(1, 10)
subcategory_ids = np.arange(1, 25)

print(category_ids)
print(subcategory_ids)


# Use a list comprehension to add "cat" to each category_id. 

cat_ids = [f'cat{category_id}' for category_id in category_ids]  

# Use a list comprehension to add "subcat" to each subcategory_id.    

subcat_ids = [f'subcat{subcategory_id}' for subcategory_id in subcategory_ids] 
    
print(cat_ids)
print(subcat_ids)


# Create a category DataFrame with the category_id array as the category_id and categories list as the category name.

catdict = {'category_id': cat_ids, 'category': categories}
catdf = pd.DataFrame(catdict)

# Create a category DataFrame with the subcategory_id array as the subcategory_id and subcategories list as the subcategory name. 

subcatdict = {'subcategory_id': subcat_ids, 'subcategory': subcategories}
subcatdf = pd.DataFrame(subcatdict) 


catdf


subcatdf


# Export categories_df and subcategories_df as CSV files.
catdf.to_csv("Resources/category.csv", index=False)

subcatdf.to_csv("Resources/subcategory.csv", index=False)





# Create a copy of the crowdfunding_info_df DataFrame name campaign_df. 
campaign_df = crowdfunding_info_df.copy()
campaign_df.head()


# Rename the blurb, launched_at, and deadline columns.

campaign_df = campaign_df.rename(columns={'blurb': 'description', 'launched_at': 'launched_date', 'deadline': 'end_date'})
campaign_df.head()


# Convert the goal and pledged columns to a `float` data type.

campaign_df['goal'] = campaign_df['goal'].astype(float)
campaign_df['pledged'] = campaign_df['pledged'].astype(float)


# Check the datatypes
campaign_df.dtypes


# Format the launched_date and end_date columns to datetime format
from datetime import datetime as dt

campaign_df['launched_date'] = pd.to_datetime(campaign_df['launched_date'], unit='s').dt.normalize()
campaign_df['end_date'] = pd.to_datetime(campaign_df['end_date'], unit='s').dt.normalize()
campaign_df.head()



# Merge the campaign_df with the category_df on the "category" column and 
# the subcategory_df on the "subcategory" column.
campcatdf = pd.merge(campaign_df, catdf, on='category')
campmerged = pd.merge(campcatdf, subcatdf, on='subcategory')

campmerged.tail(10)


# Drop unwanted columns
campaign_clean = campmerged[['cf_id', 'contact_id', 'company_name', 'description', 'goal', 'pledged', 'outcome',
                        'backers_count', 'country', 'currency', 'launched_date', 'end_date',
                        'category_id', 'subcategory_id']]
campaign_clean.head()


# Export the DataFrame as a CSV file. 
campaign_clean.to_csv("Resources/campaign.csv", index=False)





# Read the data into a Pandas DataFrame. Use the `header=2` parameter when reading in the data.
contact_info_df = pd.read_excel('Resources/contacts.xlsx', header=3)
contact_info_df.head()








# Iterate through the contact_info_df and convert each row to a dictionary.
import json
dict_values = []

for i, row in contact_info_df.iterrows():
    row_json = json.loads(list(row.to_dict().values())[0])
    dict_values.append(row_json)

# Print out the list of values for each row.
print(dict_values)


# Create a contact_info DataFrame and add each list of values, i.e., each row 
# to the 'contact_id', 'name', 'email' columns.

columns = ['contact_id', 'name', 'email']

# Create a new DataFrame with the extracted values
contact_info = pd.DataFrame(dict_values, columns=columns)

# Print the new DataFrame
contact_info.head()


# Check the datatypes.
contact_info.info()



# Create a "first"name" and "last_name" column with the first and last names from the "name" column. 

contact_info[['first_name', 'last_name']]=contact_info['name'].str.split(' ', expand=True)

# Drop the contact_name column

contact_info.drop(columns=['name'], inplace=True)
contact_info.head(10)


# Reorder the columns

contact_info = contact_info[["contact_id","first_name","last_name","email"]]
contact_info.head(10)


# Check the datatypes one more time before exporting as CSV file.
contact_info.info()


# Export the DataFrame as a CSV file. 
contact_info.to_csv("Resources/contacts.csv", encoding='utf8', index=False)






contact_info_df_copy = contact_info_df.copy()
contact_info_df_copy.head()


# Extract the four-digit contact ID number.
contact_ids = []
import re
for i, row in contact_info_df_copy.iterrows():
    match = re.search(r'"contact_id": (\d+)', str(row))
    if match:
        contact_id = match.group(1)
    else:
        contact_id = 0
        print(f"Error: No match for row {i}")
    contact_ids.append(contact_id)

# Create a new DataFrame with the extracted values
contact_info_df_copy["contact_id"] = contact_ids

# Print the new DataFrame
contact_info_df_copy.head()


# Check the datatypes.
contact_info_df_copy.info()


# Convert the "contact_id" column to an int64 data type.
contact_info_df_copy['contact_id'] = contact_info_df_copy['contact_id'].astype("int64")

contact_info_df_copy.info()


# Extract the name of the contact and add it to a new column.
matching_names = []
for i in range(len(contact_ids)):
    matching_contacts = [item for item in dict_values if item.get("contact_id",0) == int(contact_ids[i])]
    matching_contact = {}
    if len(matching_contacts) > 0:
        matching_contact = matching_contacts[0]
    matching_name = matching_contact.get("name","")
    matching_names.append(matching_name)
    
contact_info_df_copy["name"] = matching_names
contact_info_df_copy.head(10)


# Extract the email from the contacts and add the values to a new column.
matching_emails = []
for i in range(len(contact_ids)):
    matching_contacts = [item for item in dict_values if item.get("contact_id",0) == int(contact_ids[i])]
    matching_contact = {}
    if len(matching_contacts) > 0:
        matching_contact = matching_contacts[0]
    matching_email = matching_contact.get("email","")
    matching_emails.append(matching_email)
    
contact_info_df_copy["email"] = matching_emails
contact_info_df_copy.head(10)


# Create a copy of the contact_info_df with the 'contact_id', 'name', 'email' columns.
contact_info_df_copy2 = contact_info_df_copy.copy()
contact_info_df_copy2 = contact_info_df_copy2[['contact_id', 'name', 'email']]
contact_info_df_copy2.head(10)


# Create a "first"name" and "last_name" column with the first and last names from the "name" column. 

contact_info_df_copy2[['first_name', 'last_name']]=contact_info_df_copy2['name'].str.split(' ', expand=True)

# Drop the contact_name column

contact_info_df_copy2.drop(columns=['name'], inplace=True)
contact_info_df_copy2.head(10)


# Reorder the columns

contact_info_df_copy2 = contact_info_df_copy2[["contact_id","first_name","last_name","email"]]

contact_info_df_copy2.head(10)


# Check the datatypes one more time before exporting as CSV file.
contact_info_df_copy2.info()


# Export the DataFrame as a CSV file. 
# contacts_df_clean.to_csv("Resources/contacts.csv", encoding='utf8', index=False)
contact_info_df_copy2.to_csv("Resources/contacts.csv", encoding='utf8', index=False)




